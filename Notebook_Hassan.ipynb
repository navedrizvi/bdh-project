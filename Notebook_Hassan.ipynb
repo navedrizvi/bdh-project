{
 "cells": [
  {
   "cell_type": "code",
   "execution_count": 1,
   "metadata": {},
   "outputs": [],
   "source": [
    "import numpy as np\n",
    "import pandas as pd\n"
   ]
  },
  {
   "cell_type": "markdown",
   "metadata": {},
   "source": [
    "### Sampling on patients"
   ]
  },
  {
   "cell_type": "code",
   "execution_count": 2,
   "metadata": {},
   "outputs": [],
   "source": [
    "patients = pd.read_csv(\"../data/PATIENTS.csv\")"
   ]
  },
  {
   "cell_type": "code",
   "execution_count": 26,
   "metadata": {},
   "outputs": [
    {
     "name": "stdout",
     "output_type": "stream",
     "text": [
      "46520 unique patients in 46520 rows\n"
     ]
    }
   ],
   "source": [
    "#ensuring every patient is unique\n",
    "print(f\"{len(patients.SUBJECT_ID.unique())} unique patients in {len(patients)} rows\")\n",
    "#sampling random patients\n",
    "patients_sample = patients.sample(n = 1000, random_state= 1)"
   ]
  },
  {
   "cell_type": "code",
   "execution_count": 25,
   "metadata": {},
   "outputs": [
    {
     "name": "stderr",
     "output_type": "stream",
     "text": [
      "/Users/hassan/opt/anaconda3/lib/python3.7/site-packages/IPython/core/interactiveshell.py:3058: DtypeWarning: Columns (4,5) have mixed types. Specify dtype option on import or set low_memory=False.\n",
      "  interactivity=interactivity, compiler=compiler, result=result)\n"
     ]
    }
   ],
   "source": [
    "# note_events = pd.read_csv(\"../data/NOTEEVENTS.csv\")\n",
    "# #sample and save for these 1000 patients\n",
    "# note_events_sample = pd.merge(patients_sample.SUBJECT_ID,note_events)\n",
    "# note_events_sample.to_csv(\"../data/NOTEEVENTS_SAMPLE.csv\")"
   ]
  },
  {
   "cell_type": "code",
   "execution_count": 49,
   "metadata": {},
   "outputs": [
    {
     "name": "stdout",
     "output_type": "stream",
     "text": [
      "Admission Date:  [**2200-9-15**]     Discharge Date:  [**2200-9-26**]\n",
      "\n",
      "\n",
      "Service:  Surgery\n",
      "\n",
      "HISTORY OF PRESENT ILLNESS:  This is a 79-year-old male with\n",
      "a previous medical history of hypertension, valvular heart\n",
      "disease, atrial fibrillation, prostate cancer, status post\n",
      "abdominal aortic aneurysm repair who presented to the [**Hospital1 1444**] Emergency Department with a\n",
      "history of abdominal pain, nausea, vomiting of approximately\n",
      "three days duration.  The patient described the pain as\n",
      "crampy, diffused, worse in the right lower quadrant.  No\n",
      "radiation.  No fever.  No chills.  No sweats.  The patient's\n",
      "last bowel movement was immediately following a CAT scan done\n",
      "on [**9-11**], hence three days prior.  Since that time\n",
      "the patient has had no flatus and no bowel movements.  The\n",
      "patient denies hematuria, cough, shortness of breath, chest\n",
      "pain, palpitations, arthralgias, myalgias.  The patient did\n",
      "report a decreased in appetite and increase in abdominal\n",
      "distention.\n",
      "\n",
      "PAST MEDICAL HISTORY:\n",
      "1.  Hypertension.\n",
      "2.  Valvular heart disease.\n",
      "3.  Atrial fibrillation.\n",
      "4.  Prostate cancer.\n",
      "5.  Status post abdominal aortic aneurysm repair.\n",
      "\n",
      "MEDICATIONS ON ADMISSION:\n",
      "1.  Coumadin 5 mg q.o.d.\n",
      "2.  Lasix 40 mg daily.\n",
      "3.  Lisinopril 5 mg once daily.\n",
      "4.  Ativan 1 mg q.h.s. p.r.n.\n",
      "5.  Metoprolol 50 mg twice a day.\n",
      "\n",
      "LABS ON ADMISSION:  White blood cell count 10.7, hematocrit\n",
      "48.5, platelet count 211.  PT 23.3, PTT 32.9.  INR 3.6.\n",
      "Sodium 140, potassium 4.6, chloride 99, bicarbonate 27, BUN\n",
      "40, creatinine 1.7, glucose 137, total bilirubin 1.7, ALT 25,\n",
      "AST 35, alkaline phosphatase 74, amylase 72, lipase 38,\n",
      "albumin 4.2.  Abdominal film done in the emergency department\n",
      "showing a positive dilated loops of small bowel with no free\n",
      "air, positive air fluid levels and positive retention of\n",
      "barium from the CAT scan that was done on [**2200-9-11**].\n",
      "\n",
      "HOSPITAL COURSE:  The gentleman was admitted with a diagnosis\n",
      "of small bowel obstruction, placed on NPO and intravenous\n",
      "fluids.  Hospital day number one the patient stated that he\n",
      "was feeling much better.  Denied any nausea or vomiting and\n",
      "decreased abdominal pain.  The patient remained afebrile 96.5\n",
      "was temperature max.  The patient was placed on a three day\n",
      "course of Levaquin when he complained of a slight burning on\n",
      "urination.  On hospital day number three the patient\n",
      "continued to have increasing improvement in his clinical exam\n",
      "denying any abdominal pain and any complaints over night.\n",
      "The patient also stated that he was not having any flatus or\n",
      "bowel movements during the same period.  The patient\n",
      "continued to atrial fibrillation as noted on the heart\n",
      "monitor's.  This was a chronic underlying condition for the\n",
      "patient.  On hospital day number four the patient underwent\n",
      "an abdominal CAT scan to evaluate small bowel obstruction.\n",
      "The CAT scan revealed a persistence of a small bowel\n",
      "obstruction with a questionable transition point in the\n",
      "jejunum.  It was then decided to take the patient to surgery\n",
      "for an exploratory laparotomy and a question lysis of\n",
      "adhesion and evaluation of small bowel obstruction.  The\n",
      "patient underwent an exploratory laparotomy, lysis of\n",
      "adhesion, reduction of internal hernia and repair of small\n",
      "bowel on [**2200-9-18**].  The patient tolerated this\n",
      "procedure well was extubated in the operating room and\n",
      "transferred to the recovery room without incident.\n",
      "Postoperatively the patient was returned to the floor and it\n",
      "was noted that the patient remained in atrial fibrillation\n",
      "with his heart rate between 110 and 120.  The patient had one\n",
      "episode of agitation, confusion and delirium during which he\n",
      "pulled out his nasogastric tube.  The patient's O2\n",
      "saturations dropped to 90 percent while on three liters and\n",
      "the patient started having expiratory wheezes.  The patient\n",
      "was given 10 mg intravenous Lasix and greater than 400 cc of\n",
      "urine was excreted.  The patient's inspiratory status did not\n",
      "improve dramatically and there was questionable probable\n",
      "volume overload.  At this point the patient was transferred\n",
      "to the CSRU for respiratory distress.  An atrial line was\n",
      "placed.  The patient during this time was ruled out for\n",
      "ischemia.  The patient continued on intravenous Lasix to\n",
      "diurese the excessive fluid.  By postoperative day number two\n",
      "the patient was transferred back to the floor.  While on the\n",
      "floor the patient continues to do well, starting to pass\n",
      "flatus and the pain was well controlled.  By postoperative\n",
      "day number five the patient was on the low fat diet\n",
      "tolerating this without difficulty.  The patient was taken\n",
      "off TPN and evaluation for home services.  The patient was\n",
      "also restarted on his Coumadin for his chronic atrial\n",
      "fibrillation.  By postoperative day number six the patient\n",
      "was tolerating low fat diet without difficulty.  He was\n",
      "started on beta-blocker Metoprolol 25 mg twice a day and\n",
      "continuation with Diltiazem-LD 120 twice a day and his\n",
      "Coumadin was started.  The patient remained in rapid atrial\n",
      "fibrillation as was his baseline cardiac condition.  On\n",
      "postoperative day number eight the patient continued to do\n",
      "well and was discharged to home.\n",
      "\n",
      "CONDITION ON DISCHARGE:  Good, afebrile, pain well controlled\n",
      "on oral pain medications, tolerating p.o. food without\n",
      "difficulty, ambulating without assistance.\n",
      "\n",
      "DISCHARGE DIAGNOSIS:\n",
      "1.  Status post exploratory laparotomy for small bowel\n",
      "obstruction.\n",
      "2.  Lysis of adhesions.\n",
      "3.  Reduction of internal hernia.\n",
      "4.  Repair of small bowel.\n",
      "5.  Hypertension.\n",
      "6.  Valvular heart disease.\n",
      "7.  Chronic atrial fibrillation.\n",
      "8.  Prostate cancer.\n",
      "9.  Status post abdominal aortic aneurysm repair.\n",
      "\n",
      "DISCHARGE MEDICATIONS:\n",
      "1.  Percocet one to two tablets p.o. q.4-6h. p.r.n. for pain.\n",
      "2.  Coumadin 5 mg q. every other day.\n",
      "3.  Lasix 40 mg q. daily.\n",
      "4.  Lisinopril 5 mg daily.\n",
      "5.  Ativan 1 mg q.h.s. p.r.n.\n",
      "6.  Metoprolol 50 mg twice a day.\n",
      "\n",
      "DISPOSITION:  The patient was discharged to home to follow-up\n",
      "with Dr. [**Last Name (STitle) **] in two to three weeks.\n",
      "\n",
      "\n",
      "\n",
      "\n",
      "\n",
      "\n",
      "                          [**First Name11 (Name Pattern1) **] [**Last Name (NamePattern1) 2213**], M.D.  [**MD Number(1) 2214**]\n",
      "\n",
      "Dictated By:[**Name8 (MD) 846**]\n",
      "\n",
      "MEDQUIST36\n",
      "\n",
      "D:  [**2200-11-12**]  15:03\n",
      "T:  [**2200-11-13**]  13:33\n",
      "JOB#:  [**Job Number 94743**]\n",
      "\n",
      "cc:[**Last Name (NamePattern1) 44177**]\n"
     ]
    }
   ],
   "source": []
  },
  {
   "cell_type": "code",
   "execution_count": 41,
   "metadata": {},
   "outputs": [],
   "source": []
  },
  {
   "cell_type": "code",
   "execution_count": null,
   "metadata": {},
   "outputs": [],
   "source": []
  },
  {
   "cell_type": "code",
   "execution_count": null,
   "metadata": {},
   "outputs": [],
   "source": []
  }
 ],
 "metadata": {
  "kernelspec": {
   "display_name": "Python 3",
   "language": "python",
   "name": "python3"
  },
  "language_info": {
   "codemirror_mode": {
    "name": "ipython",
    "version": 3
   },
   "file_extension": ".py",
   "mimetype": "text/x-python",
   "name": "python",
   "nbconvert_exporter": "python",
   "pygments_lexer": "ipython3",
   "version": "3.7.4"
  }
 },
 "nbformat": 4,
 "nbformat_minor": 2
}
