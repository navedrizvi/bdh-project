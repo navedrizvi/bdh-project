{
 "cells": [
  {
   "cell_type": "code",
   "execution_count": 152,
   "metadata": {},
   "outputs": [],
   "source": [
    "import numpy as np\n",
    "import pandas as pd\n",
    "from sklearn.linear_model import LogisticRegression\n",
    "from sklearn.svm import LinearSVC\n",
    "from sklearn.tree import DecisionTreeClassifier\n",
    "from sklearn.metrics import *\n"
   ]
  },
  {
   "cell_type": "markdown",
   "metadata": {},
   "source": [
    "### Sampling on patients"
   ]
  },
  {
   "cell_type": "code",
   "execution_count": 2,
   "metadata": {},
   "outputs": [],
   "source": [
    "path = \"../../data/\"\n",
    "patients = pd.read_csv(f\"{path}PATIENTS.csv\")"
   ]
  },
  {
   "cell_type": "code",
   "execution_count": 4,
   "metadata": {},
   "outputs": [
    {
     "name": "stdout",
     "output_type": "stream",
     "text": [
      "46520 unique patients in 46520 rows\n"
     ]
    }
   ],
   "source": [
    "#ensuring every patient is unique\n",
    "print(f\"{len(patients.SUBJECT_ID.unique())} unique patients in {len(patients)} rows\")\n",
    "#sampling random patients\n",
    "patients_sample = patients.sample(n = 1000, random_state= 1)"
   ]
  },
  {
   "cell_type": "code",
   "execution_count": 5,
   "metadata": {},
   "outputs": [],
   "source": [
    "# note_events = pd.read_csv(\"../data/NOTEEVENTS.csv\")\n",
    "# #sample and save for these 1000 patients\n",
    "# note_events_sample = pd.merge(patients_sample.SUBJECT_ID,note_events)\n",
    "# note_events_sample.to_csv(\"../data/NOTEEVENTS_SAMPLE.csv\")"
   ]
  },
  {
   "cell_type": "code",
   "execution_count": 6,
   "metadata": {},
   "outputs": [],
   "source": [
    "### Incomplete: Using AWS glue, for now I will do stuff locally\n",
    "# import boto3\n",
    "# Creating the low level functional client\n",
    "# client = boto3.client(\n",
    "#     'glue',\n",
    "#     aws_access_key_id = '',\n",
    "#     aws_secret_access_key = '',\n",
    "#     region_name = 'us-east-1'\n",
    "# )\n",
    "# clientResponse = client.get_table(DatabaseName=\"mimiciii\",Name=\"admissions\")"
   ]
  },
  {
   "cell_type": "code",
   "execution_count": 7,
   "metadata": {},
   "outputs": [],
   "source": [
    "def convert_icd9(icd9_object):\n",
    "    \"\"\"\n",
    "    :param icd9_object: ICD-9 code (Pandas/Numpy object).\n",
    "    :return: extracted main digits of ICD-9 code\n",
    "    \"\"\"\n",
    "    icd9_str = str(icd9_object)\n",
    "\n",
    "    if icd9_str[0] == 'E': #if code starts with E\n",
    "        converted = icd9_str[:4]\n",
    "    else: #if they start with V or numeric\n",
    "        converted = icd9_str[:3]\n",
    "\n",
    "    return converted\n",
    "\n",
    "def build_codemap(dataset):\n",
    "    \"\"\"\n",
    "    :return: Dict of code map {main-digits of ICD9: unique feature ID}\n",
    "    \"\"\"\n",
    "    # TODO: We build a code map using ONLY train data. Think about how to construct validation/test sets using this.\n",
    "    df_digits = dataset['FEATURE'].unique()\n",
    "    codemap = {}\n",
    "    for i in range(0,len(df_digits)):\n",
    "        codemap[df_digits[i]] = i\n",
    "\n",
    "\n",
    "    return codemap"
   ]
  },
  {
   "cell_type": "code",
   "execution_count": 8,
   "metadata": {},
   "outputs": [],
   "source": [
    "#read and etl on diagnoses\n",
    "diagnoses = pd.read_csv(f\"{path}DIAGNOSES_ICD.csv.gz\")\n",
    "# sample for the patients\n",
    "diagnoses = pd.merge(patients_sample.SUBJECT_ID,diagnoses)\n",
    "diagnoses = diagnoses[['SUBJECT_ID','ICD9_CODE']]\n",
    "diagnoses['VALUE'] = 1\n",
    "diagnoses[\"ICD9_CODE\"] = diagnoses[\"ICD9_CODE\"].apply(convert_icd9)\n",
    "diagnoses.drop_duplicates(inplace = True)"
   ]
  },
  {
   "cell_type": "code",
   "execution_count": 9,
   "metadata": {},
   "outputs": [
    {
     "data": {
      "text/html": [
       "<div>\n",
       "<style scoped>\n",
       "    .dataframe tbody tr th:only-of-type {\n",
       "        vertical-align: middle;\n",
       "    }\n",
       "\n",
       "    .dataframe tbody tr th {\n",
       "        vertical-align: top;\n",
       "    }\n",
       "\n",
       "    .dataframe thead th {\n",
       "        text-align: right;\n",
       "    }\n",
       "</style>\n",
       "<table border=\"1\" class=\"dataframe\">\n",
       "  <thead>\n",
       "    <tr style=\"text-align: right;\">\n",
       "      <th></th>\n",
       "      <th>SUBJECT_ID</th>\n",
       "      <th>ICD9_CODE</th>\n",
       "      <th>VALUE</th>\n",
       "    </tr>\n",
       "  </thead>\n",
       "  <tbody>\n",
       "    <tr>\n",
       "      <th>0</th>\n",
       "      <td>4074</td>\n",
       "      <td>038</td>\n",
       "      <td>1</td>\n",
       "    </tr>\n",
       "    <tr>\n",
       "      <th>1</th>\n",
       "      <td>4074</td>\n",
       "      <td>785</td>\n",
       "      <td>1</td>\n",
       "    </tr>\n",
       "    <tr>\n",
       "      <th>2</th>\n",
       "      <td>4074</td>\n",
       "      <td>578</td>\n",
       "      <td>1</td>\n",
       "    </tr>\n",
       "    <tr>\n",
       "      <th>3</th>\n",
       "      <td>4074</td>\n",
       "      <td>427</td>\n",
       "      <td>1</td>\n",
       "    </tr>\n",
       "    <tr>\n",
       "      <th>4</th>\n",
       "      <td>4074</td>\n",
       "      <td>428</td>\n",
       "      <td>1</td>\n",
       "    </tr>\n",
       "    <tr>\n",
       "      <th>...</th>\n",
       "      <td>...</td>\n",
       "      <td>...</td>\n",
       "      <td>...</td>\n",
       "    </tr>\n",
       "    <tr>\n",
       "      <th>13691</th>\n",
       "      <td>27594</td>\n",
       "      <td>300</td>\n",
       "      <td>1</td>\n",
       "    </tr>\n",
       "    <tr>\n",
       "      <th>13692</th>\n",
       "      <td>27594</td>\n",
       "      <td>287</td>\n",
       "      <td>1</td>\n",
       "    </tr>\n",
       "    <tr>\n",
       "      <th>13693</th>\n",
       "      <td>27594</td>\n",
       "      <td>372</td>\n",
       "      <td>1</td>\n",
       "    </tr>\n",
       "    <tr>\n",
       "      <th>13694</th>\n",
       "      <td>27594</td>\n",
       "      <td>787</td>\n",
       "      <td>1</td>\n",
       "    </tr>\n",
       "    <tr>\n",
       "      <th>13695</th>\n",
       "      <td>27594</td>\n",
       "      <td>303</td>\n",
       "      <td>1</td>\n",
       "    </tr>\n",
       "  </tbody>\n",
       "</table>\n",
       "<p>11218 rows × 3 columns</p>\n",
       "</div>"
      ],
      "text/plain": [
       "       SUBJECT_ID ICD9_CODE  VALUE\n",
       "0            4074       038      1\n",
       "1            4074       785      1\n",
       "2            4074       578      1\n",
       "3            4074       427      1\n",
       "4            4074       428      1\n",
       "...           ...       ...    ...\n",
       "13691       27594       300      1\n",
       "13692       27594       287      1\n",
       "13693       27594       372      1\n",
       "13694       27594       787      1\n",
       "13695       27594       303      1\n",
       "\n",
       "[11218 rows x 3 columns]"
      ]
     },
     "execution_count": 9,
     "metadata": {},
     "output_type": "execute_result"
    }
   ],
   "source": [
    "diagnoses"
   ]
  },
  {
   "cell_type": "code",
   "execution_count": 10,
   "metadata": {},
   "outputs": [],
   "source": [
    "admissions = pd.read_csv(f\"{path}ADMISSIONS.csv.gz\")\n",
    "admissions = pd.merge(patients_sample.SUBJECT_ID,admissions)\n",
    "\n",
    "#read and etl on lab_results\n",
    "lab_results = pd.read_csv(f\"{path}LABEVENTS_SAMPLE.csv\")\n",
    "# lab_results = pd.read_csv(f\"{path}LABEVENTS.csv.gz\")\n",
    "lab_results = pd.merge(patients_sample.SUBJECT_ID,lab_results)\n",
    "# lab_results.to_csv(\"LABEVENTS_SAMPLE.csv\")"
   ]
  },
  {
   "cell_type": "code",
   "execution_count": 11,
   "metadata": {},
   "outputs": [],
   "source": [
    "#roughly 20% of these items have null in the HADM ID\n",
    "lab_results = lab_results[['SUBJECT_ID','ITEMID','VALUE']]\n",
    "#making sure lab_results has different item_id than diagnostics. appending a code 200 to the itemIDs\n",
    "lab_results['ITEMID'] = lab_results['ITEMID']+20000000"
   ]
  },
  {
   "cell_type": "code",
   "execution_count": 12,
   "metadata": {},
   "outputs": [
    {
     "data": {
      "text/html": [
       "<div>\n",
       "<style scoped>\n",
       "    .dataframe tbody tr th:only-of-type {\n",
       "        vertical-align: middle;\n",
       "    }\n",
       "\n",
       "    .dataframe tbody tr th {\n",
       "        vertical-align: top;\n",
       "    }\n",
       "\n",
       "    .dataframe thead th {\n",
       "        text-align: right;\n",
       "    }\n",
       "</style>\n",
       "<table border=\"1\" class=\"dataframe\">\n",
       "  <thead>\n",
       "    <tr style=\"text-align: right;\">\n",
       "      <th></th>\n",
       "      <th>SUBJECT_ID</th>\n",
       "      <th>ITEMID</th>\n",
       "      <th>VALUE</th>\n",
       "    </tr>\n",
       "  </thead>\n",
       "  <tbody>\n",
       "    <tr>\n",
       "      <th>0</th>\n",
       "      <td>138</td>\n",
       "      <td>20050802</td>\n",
       "      <td>1.947368</td>\n",
       "    </tr>\n",
       "    <tr>\n",
       "      <th>1</th>\n",
       "      <td>138</td>\n",
       "      <td>20050804</td>\n",
       "      <td>27.076923</td>\n",
       "    </tr>\n",
       "    <tr>\n",
       "      <th>2</th>\n",
       "      <td>138</td>\n",
       "      <td>20050806</td>\n",
       "      <td>104.666667</td>\n",
       "    </tr>\n",
       "    <tr>\n",
       "      <th>3</th>\n",
       "      <td>138</td>\n",
       "      <td>20050808</td>\n",
       "      <td>1.134286</td>\n",
       "    </tr>\n",
       "    <tr>\n",
       "      <th>4</th>\n",
       "      <td>138</td>\n",
       "      <td>20050809</td>\n",
       "      <td>136.187500</td>\n",
       "    </tr>\n",
       "    <tr>\n",
       "      <th>...</th>\n",
       "      <td>...</td>\n",
       "      <td>...</td>\n",
       "      <td>...</td>\n",
       "    </tr>\n",
       "    <tr>\n",
       "      <th>54497</th>\n",
       "      <td>99928</td>\n",
       "      <td>20051301</td>\n",
       "      <td>7.633333</td>\n",
       "    </tr>\n",
       "    <tr>\n",
       "      <th>54498</th>\n",
       "      <td>99928</td>\n",
       "      <td>20051478</td>\n",
       "      <td>1000.000000</td>\n",
       "    </tr>\n",
       "    <tr>\n",
       "      <th>54499</th>\n",
       "      <td>99928</td>\n",
       "      <td>20051484</td>\n",
       "      <td>150.000000</td>\n",
       "    </tr>\n",
       "    <tr>\n",
       "      <th>54500</th>\n",
       "      <td>99928</td>\n",
       "      <td>20051491</td>\n",
       "      <td>5.000000</td>\n",
       "    </tr>\n",
       "    <tr>\n",
       "      <th>54501</th>\n",
       "      <td>99928</td>\n",
       "      <td>20051498</td>\n",
       "      <td>1.021000</td>\n",
       "    </tr>\n",
       "  </tbody>\n",
       "</table>\n",
       "<p>54502 rows × 3 columns</p>\n",
       "</div>"
      ],
      "text/plain": [
       "       SUBJECT_ID    ITEMID        VALUE\n",
       "0             138  20050802     1.947368\n",
       "1             138  20050804    27.076923\n",
       "2             138  20050806   104.666667\n",
       "3             138  20050808     1.134286\n",
       "4             138  20050809   136.187500\n",
       "...           ...       ...          ...\n",
       "54497       99928  20051301     7.633333\n",
       "54498       99928  20051478  1000.000000\n",
       "54499       99928  20051484   150.000000\n",
       "54500       99928  20051491     5.000000\n",
       "54501       99928  20051498     1.021000\n",
       "\n",
       "[54502 rows x 3 columns]"
      ]
     },
     "execution_count": 12,
     "metadata": {},
     "output_type": "execute_result"
    }
   ],
   "source": [
    "#take average value for lab_results\n",
    "lab_results = lab_results.dropna()\n",
    "#keep only numeric values, removing things like 'not done'\n",
    "def is_a_number(x):\n",
    "    if x in [' ','.']:\n",
    "        return False\n",
    "    for char in x.strip():\n",
    "        if (not char in ['.',' ','1','2','3','4','5','6','7','8','9','0']):\n",
    "            return False\n",
    "    return True\n",
    "lab_results = lab_results.loc[lab_results['VALUE'].apply(is_a_number),:]\n",
    "lab_results['VALUE'] = pd.to_numeric(lab_results['VALUE'])\n",
    "\n",
    "#keep average of values (can use more sophisticated methods later on)\n",
    "lab_results = lab_results.groupby(['SUBJECT_ID','ITEMID']).mean().reset_index()\n",
    "lab_results"
   ]
  },
  {
   "cell_type": "code",
   "execution_count": 160,
   "metadata": {},
   "outputs": [],
   "source": [
    "#merging diagnosis and lab_results\n",
    "lab_results.columns = ['SUBJECT_ID','FEATURE','VALUE']\n",
    "diagnoses.columns = ['SUBJECT_ID','FEATURE','VALUE']\n",
    "features = pd.concat([lab_results,diagnoses])\n"
   ]
  },
  {
   "cell_type": "code",
   "execution_count": 161,
   "metadata": {},
   "outputs": [
    {
     "data": {
      "text/html": [
       "<div>\n",
       "<style scoped>\n",
       "    .dataframe tbody tr th:only-of-type {\n",
       "        vertical-align: middle;\n",
       "    }\n",
       "\n",
       "    .dataframe tbody tr th {\n",
       "        vertical-align: top;\n",
       "    }\n",
       "\n",
       "    .dataframe thead th {\n",
       "        text-align: right;\n",
       "    }\n",
       "</style>\n",
       "<table border=\"1\" class=\"dataframe\">\n",
       "  <thead>\n",
       "    <tr style=\"text-align: right;\">\n",
       "      <th></th>\n",
       "      <th>SUBJECT_ID</th>\n",
       "      <th>FEATURE</th>\n",
       "      <th>VALUE</th>\n",
       "    </tr>\n",
       "  </thead>\n",
       "  <tbody>\n",
       "    <tr>\n",
       "      <th>0</th>\n",
       "      <td>138</td>\n",
       "      <td>0</td>\n",
       "      <td>1.95</td>\n",
       "    </tr>\n",
       "    <tr>\n",
       "      <th>1</th>\n",
       "      <td>138</td>\n",
       "      <td>1</td>\n",
       "      <td>27.08</td>\n",
       "    </tr>\n",
       "    <tr>\n",
       "      <th>2</th>\n",
       "      <td>138</td>\n",
       "      <td>2</td>\n",
       "      <td>104.67</td>\n",
       "    </tr>\n",
       "    <tr>\n",
       "      <th>3</th>\n",
       "      <td>138</td>\n",
       "      <td>3</td>\n",
       "      <td>1.13</td>\n",
       "    </tr>\n",
       "    <tr>\n",
       "      <th>4</th>\n",
       "      <td>138</td>\n",
       "      <td>4</td>\n",
       "      <td>136.19</td>\n",
       "    </tr>\n",
       "  </tbody>\n",
       "</table>\n",
       "</div>"
      ],
      "text/plain": [
       "   SUBJECT_ID  FEATURE   VALUE\n",
       "0         138        0    1.95\n",
       "1         138        1   27.08\n",
       "2         138        2  104.67\n",
       "3         138        3    1.13\n",
       "4         138        4  136.19"
      ]
     },
     "metadata": {},
     "output_type": "display_data"
    }
   ],
   "source": [
    "#get rid of missing values\n",
    "features = features.dropna()\n",
    "\n",
    "#apply codemap to features\n",
    "codemap = build_codemap(features)\n",
    "features['FEATURE'] = features['FEATURE'].map(codemap)\n",
    "features['VALUE'] = features.VALUE.round(2)\n",
    "display(features[0:5])"
   ]
  },
  {
   "cell_type": "code",
   "execution_count": 110,
   "metadata": {},
   "outputs": [
    {
     "data": {
      "text/plain": [
       "SUBJECT_ID\n",
       "4074     1\n",
       "90889    0\n",
       "72753    0\n",
       "64908    0\n",
       "70273    0\n",
       "Name: DEAD, dtype: int64"
      ]
     },
     "metadata": {},
     "output_type": "display_data"
    }
   ],
   "source": [
    "#create mortality table\n",
    "mortality = patients_sample\n",
    "mortality['DEAD'] = 1- mortality['DOD_SSN'].isna()\n",
    "mortality.index = mortality.SUBJECT_ID\n",
    "mortality = mortality['DEAD']\n",
    "\n",
    "display(mortality[0:5])\n",
    "mortality = mortality.to_dict()"
   ]
  },
  {
   "cell_type": "markdown",
   "metadata": {},
   "source": [
    "### Saving the data prior to model training\n",
    "The data will be saved in an SVM_light format for reproducibility"
   ]
  },
  {
   "cell_type": "code",
   "execution_count": 157,
   "metadata": {},
   "outputs": [],
   "source": [
    "#turn patient_features into an svm_light format\n",
    "features['F2V'] = list(zip(features.FEATURE,features.VALUE))\n",
    "features_lists = features.groupby(['SUBJECT_ID'])['F2V'].apply(list)\n",
    "# features_lists = pd.DataFrame(features_lists).reset_index()\n",
    "features_lists = features_lists.to_dict()\n"
   ]
  },
  {
   "cell_type": "code",
   "execution_count": 131,
   "metadata": {},
   "outputs": [
    {
     "data": {
      "text/plain": [
       "846746"
      ]
     },
     "execution_count": 131,
     "metadata": {},
     "output_type": "execute_result"
    }
   ],
   "source": [
    " # function to help output data\n",
    "def create_svmlite(patient_features, mortality, type):\n",
    "    patient_ids = list(patient_features.keys())\n",
    "    patient_ids.sort()\n",
    "    d1 = \"\"\n",
    "    for id in patient_ids:\n",
    "        patient_features[id].sort()\n",
    "        features = ''\n",
    "        for feature in patient_features[id]:\n",
    "            features += f\" {str(int(feature[0]))}:\" + \"{:.6f}\".format(feature[1])\n",
    "        if type == 1: d1 += f\"{mortality[id]}{features} \\n\"\n",
    "        if type == 2: d1 += f\"{int(id)} {mortality[id]}{features} \\n\"\n",
    "    # print(d1)\n",
    "\n",
    "    return d1\n",
    "# create_svmlite(features_lists,mortality,2)\n",
    "deliverable1 = open(f\"{path}svm_light/features.train\", 'wb')\n",
    "deliverable1.write(bytes((create_svmlite(features_lists, mortality, 1)), 'UTF-8'))"
   ]
  },
  {
   "cell_type": "markdown",
   "metadata": {},
   "source": [
    "### Model Training"
   ]
  },
  {
   "cell_type": "code",
   "execution_count": 150,
   "metadata": {},
   "outputs": [],
   "source": [
    "# input: Y_pred,Y_true\n",
    "# output: accuracy, auc, precision, recall, f1-score\n",
    "def classification_metrics(Y_pred, Y_true):\n",
    "    # TODO: Calculate the above mentioned metrics\n",
    "    acc = accuracy_score(Y_pred, Y_true)\n",
    "    auc_ = roc_auc_score(Y_pred, Y_true)\n",
    "    precision = precision_score(Y_pred, Y_true)\n",
    "    recall = recall_score(Y_pred, Y_true)\n",
    "    f1score = f1_score(Y_pred, Y_true)\n",
    "    # NOTE: It is important to provide the output in the same order\n",
    "    return acc, auc_, precision, recall, f1score\n",
    "# input: Name of classifier, predicted labels, actual labels\n",
    "def display_metrics(classifierName, Y_pred, Y_true):\n",
    "    print(\"______________________________________________\")\n",
    "    print((\"Classifier: \" + classifierName))\n",
    "    acc, auc_, precision, recall, f1score = classification_metrics(Y_pred, Y_true)\n",
    "    print((\"Accuracy: \" + str(acc)))\n",
    "    print((\"AUC: \" + str(auc_)))\n",
    "    print((\"Precision: \" + str(precision)))\n",
    "    print((\"Recall: \" + str(recall)))\n",
    "    print((\"F1-score: \" + str(f1score)))\n",
    "    print(\"______________________________________________\")\n",
    "    print(\"\")\n",
    "\n",
    "# input: X_train, Y_train and X_test\n",
    "# output: Y_pred\n",
    "def logistic_regression_pred(X_train, Y_train, X_test):\n",
    "    # TODO: train a logistic regression classifier using X_train and Y_train. Use this to predict labels of X_test\n",
    "    # use default params for the classifier\n",
    "    log_model = LogisticRegression(random_state=1)\n",
    "    log_model.fit(X_train, Y_train)\n",
    "    Y_pred = log_model.predict(X_test)\n",
    "    return Y_pred\n",
    "X_train, Y_train = load_svmlight_file(f\"{path}svm_light/features.train\", n_features=3190)\n",
    "\n",
    "from sklearn.model_selection import train_test_split\n",
    "X_train, X_test = train_test_split(X_train,test_size = 0.2,random_state = 1)\n",
    "Y_train, Y_test = train_test_split(Y_train,test_size = 0.2,random_state = 1)"
   ]
  },
  {
   "cell_type": "code",
   "execution_count": 154,
   "metadata": {},
   "outputs": [
    {
     "name": "stdout",
     "output_type": "stream",
     "text": [
      "______________________________________________\n",
      "Classifier: Logistic Regression\n",
      "Accuracy: 0.77\n",
      "AUC: 0.7250000000000001\n",
      "Precision: 0.4482758620689655\n",
      "Recall: 0.65\n",
      "F1-score: 0.5306122448979592\n",
      "______________________________________________\n",
      "\n"
     ]
    },
    {
     "name": "stderr",
     "output_type": "stream",
     "text": [
      "/Users/hassan/opt/anaconda3/envs/Homework1/lib/python3.6/site-packages/sklearn/linear_model/_logistic.py:765: ConvergenceWarning: lbfgs failed to converge (status=1):\n",
      "STOP: TOTAL NO. of ITERATIONS REACHED LIMIT.\n",
      "\n",
      "Increase the number of iterations (max_iter) or scale the data as shown in:\n",
      "    https://scikit-learn.org/stable/modules/preprocessing.html\n",
      "Please also refer to the documentation for alternative solver options:\n",
      "    https://scikit-learn.org/stable/modules/linear_model.html#logistic-regression\n",
      "  extra_warning_msg=_LOGISTIC_SOLVER_CONVERGENCE_MSG)\n"
     ]
    },
    {
     "ename": "NameError",
     "evalue": "name 'svm_pred' is not defined",
     "output_type": "error",
     "traceback": [
      "\u001b[0;31m---------------------------------------------------------------------------\u001b[0m",
      "\u001b[0;31mNameError\u001b[0m                                 Traceback (most recent call last)",
      "\u001b[0;32m<ipython-input-154-4a87f537bb55>\u001b[0m in \u001b[0;36m<module>\u001b[0;34m\u001b[0m\n\u001b[1;32m      3\u001b[0m \u001b[0;31m# from sklearn.tree import DecisionTreeClassifier\u001b[0m\u001b[0;34m\u001b[0m\u001b[0;34m\u001b[0m\u001b[0m\n\u001b[1;32m      4\u001b[0m \u001b[0mdisplay_metrics\u001b[0m\u001b[0;34m(\u001b[0m\u001b[0;34m\"Logistic Regression\"\u001b[0m\u001b[0;34m,\u001b[0m \u001b[0mlogistic_regression_pred\u001b[0m\u001b[0;34m(\u001b[0m\u001b[0mX_train\u001b[0m\u001b[0;34m,\u001b[0m \u001b[0mY_train\u001b[0m\u001b[0;34m,\u001b[0m \u001b[0mX_test\u001b[0m\u001b[0;34m)\u001b[0m\u001b[0;34m,\u001b[0m \u001b[0mY_test\u001b[0m\u001b[0;34m)\u001b[0m\u001b[0;34m\u001b[0m\u001b[0m\n\u001b[0;32m----> 5\u001b[0;31m \u001b[0mdisplay_metrics\u001b[0m\u001b[0;34m(\u001b[0m\u001b[0;34m\"SVM\"\u001b[0m\u001b[0;34m,\u001b[0m \u001b[0msvm_pred\u001b[0m\u001b[0;34m(\u001b[0m\u001b[0mX_train\u001b[0m\u001b[0;34m,\u001b[0m \u001b[0mY_train\u001b[0m\u001b[0;34m,\u001b[0m \u001b[0mX_test\u001b[0m\u001b[0;34m)\u001b[0m\u001b[0;34m,\u001b[0m \u001b[0mY_test\u001b[0m\u001b[0;34m)\u001b[0m\u001b[0;34m\u001b[0m\u001b[0m\n\u001b[0m\u001b[1;32m      6\u001b[0m \u001b[0;31m# display_metrics(\"Decision Tree\", decisionTree_pred(X_train, Y_train, X_test), Y_test)\u001b[0m\u001b[0;34m\u001b[0m\u001b[0;34m\u001b[0m\u001b[0m\n",
      "\u001b[0;31mNameError\u001b[0m: name 'svm_pred' is not defined"
     ]
    }
   ],
   "source": [
    "from sklearn.linear_model import LogisticRegression\n",
    "# from sklearn.svm import LinearSVC\n",
    "# from sklearn.tree import DecisionTreeClassifier\n",
    "display_metrics(\"Logistic Regression\", logistic_regression_pred(X_train, Y_train, X_test), Y_test)\n",
    "# display_metrics(\"SVM\", svm_pred(X_train, Y_train, X_test), Y_test)\n",
    "# display_metrics(\"Decision Tree\", decisionTree_pred(X_train, Y_train, X_test), Y_test)\n"
   ]
  },
  {
   "cell_type": "code",
   "execution_count": null,
   "metadata": {},
   "outputs": [],
   "source": []
  },
  {
   "cell_type": "code",
   "execution_count": null,
   "metadata": {},
   "outputs": [],
   "source": []
  }
 ],
 "metadata": {
  "kernelspec": {
   "display_name": "Python [conda env:Homework1]",
   "language": "python",
   "name": "conda-env-Homework1-py"
  },
  "language_info": {
   "codemirror_mode": {
    "name": "ipython",
    "version": 3
   },
   "file_extension": ".py",
   "mimetype": "text/x-python",
   "name": "python",
   "nbconvert_exporter": "python",
   "pygments_lexer": "ipython3",
   "version": "3.6.6"
  }
 },
 "nbformat": 4,
 "nbformat_minor": 2
}
